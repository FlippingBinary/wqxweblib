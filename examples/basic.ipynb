{
 "metadata": {
  "language_info": {
   "codemirror_mode": {
    "name": "ipython",
    "version": 3
   },
   "file_extension": ".py",
   "mimetype": "text/x-python",
   "name": "python",
   "nbconvert_exporter": "python",
   "pygments_lexer": "ipython3",
   "version": "3.7.9-final"
  },
  "orig_nbformat": 2,
  "kernelspec": {
   "name": "python3",
   "display_name": "Python 3.7.9 64-bit",
   "metadata": {
    "interpreter": {
     "hash": "4cd7ab41f5fca4b9b44701077e38c5ffd31fe66a6cab21e0214b68d958d0e462"
    }
   }
  }
 },
 "nbformat": 4,
 "nbformat_minor": 2,
 "cells": [
  {
   "source": [
    "# Example usage of `wqxweblib`\n",
    "\n",
    "For this example, we're going to store our credentials in an environment variable loaded from a file called `.env`. In production, you might use a different mechanism for storing and loading credentials, but for our purposes this will work fine. \n",
    "\n",
    "Before running any of this code, create a file called `.env` in this project's directory with your user id and private key from WQX Web in CDX. If you're not sure what that is, reach out to the person who gave you credentials to WQX Web and ask how to obtain a private key for API access to WQX Web.\n",
    "\n",
    "The `.env` file should be key value pairs like this:\n",
    "\n",
    "    WQXWEB_USERID=someuser\n",
    "    WQXWEB_PRIVATEKEY=rn9+r8E7t2ePfTqjkcocJcGU9BAl/x+X1RSf1miOaB1tLo1fi448sPzIeJCg5rMnvgVtDFfOsrpOsNVQ7/q3WA==\n",
    "\n",
    "After you've created that, you can use the following code block to load those environment variables into Python."
   ],
   "cell_type": "markdown",
   "metadata": {}
  },
  {
   "cell_type": "code",
   "execution_count": 1,
   "metadata": {},
   "outputs": [
    {
     "output_type": "stream",
     "name": "stdout",
     "text": [
      "Collecting python-dotenv\n",
      "  Downloading python_dotenv-0.15.0-py2.py3-none-any.whl (18 kB)\n",
      "Installing collected packages: python-dotenv\n",
      "Successfully installed python-dotenv-0.15.0\n",
      "You've loaded the user id someuser with a private key.\n"
     ]
    }
   ],
   "source": [
    "# Install dotenv\n",
    "!python3 -m pip install --user --upgrade --no-warn-script-location python-dotenv\n",
    "# Import libraries\n",
    "from dotenv import load_dotenv\n",
    "# Load environment variables from file\n",
    "load_dotenv(\".env\")\n",
    "# Assign the user id and private key to their own variables\n",
    "user_id = os.environ.get(\"WQXWEB_USERID\")\n",
    "private_key = os.environ.get(\"WQXWEB_PRIVATEKEY\")\n",
    "\n",
    "print(f\"You've loaded the user id {user_id} with{'out' if private_key is None else ''} a private key.\")"
   ]
  },
  {
   "source": [
    "Install `wqxweblib` using `pip3` if it's not already installed."
   ],
   "cell_type": "markdown",
   "metadata": {}
  },
  {
   "cell_type": "code",
   "execution_count": 2,
   "metadata": {},
   "outputs": [
    {
     "output_type": "stream",
     "name": "stdout",
     "text": [
      "Collecting wqxweblib\n",
      "  Downloading wqxweblib-2.2.0.0.3-py3-none-any.whl (12 kB)\n",
      "Requirement already satisfied: rfc3986>=1.4.0 in /home/vscode/.local/lib/python3.7/site-packages (from wqxweblib) (1.4.0)\n",
      "Requirement already satisfied: yattag>=1.14.0 in /home/vscode/.local/lib/python3.7/site-packages (from wqxweblib) (1.14.0)\n",
      "Requirement already satisfied: requests>=2.25.0 in /home/vscode/.local/lib/python3.7/site-packages (from wqxweblib) (2.25.1)\n",
      "Requirement already satisfied: idna<3,>=2.5 in /home/vscode/.local/lib/python3.7/site-packages (from requests>=2.25.0->wqxweblib) (2.10)\n",
      "Requirement already satisfied: certifi>=2017.4.17 in /home/vscode/.local/lib/python3.7/site-packages (from requests>=2.25.0->wqxweblib) (2020.12.5)\n",
      "Requirement already satisfied: urllib3<1.27,>=1.21.1 in /home/vscode/.local/lib/python3.7/site-packages (from requests>=2.25.0->wqxweblib) (1.26.3)\n",
      "Requirement already satisfied: chardet<5,>=3.0.2 in /home/vscode/.local/lib/python3.7/site-packages (from requests>=2.25.0->wqxweblib) (4.0.0)\n",
      "Installing collected packages: wqxweblib\n",
      "Successfully installed wqxweblib-2.2.0.0.3\n"
     ]
    }
   ],
   "source": [
    "!python3 -m pip install --user --upgrade wqxweblib"
   ]
  },
  {
   "source": [
    "Import the `WQXWeb` class from the `wqxweblib` library and create an object from it using your EPA-provided authentication credentials.\n",
    "\n",
    "This will be the primary way you interact with WQX Web."
   ],
   "cell_type": "markdown",
   "metadata": {}
  },
  {
   "cell_type": "code",
   "execution_count": 3,
   "metadata": {},
   "outputs": [
    {
     "output_type": "stream",
     "name": "stdout",
     "text": [
      "That worked so far, but in practice you should usually trap errors in a try/catch block.\n"
     ]
    }
   ],
   "source": [
    "from wqxweblib import WQXWeb\n",
    "\n",
    "wqxweb = WQXWeb(userID=user_id, privateKey=private_key)\n",
    "\n",
    "print(\"That worked so far, but in practice you should usually trap errors in a try/catch block.\")"
   ]
  },
  {
   "source": [
    "We don't need to use real data for this simple example, so we're going to use the sample data that happens to be included with the Physical Chemical Template which is associated with Import Configuration `7411`. We'll download it to the current directory as `results.xlsx`.\n",
    "\n",
    "Normally, you would want to gather the real data into a CSV file or XLSX file from sensors or other sources."
   ],
   "cell_type": "markdown",
   "metadata": {}
  },
  {
   "cell_type": "code",
   "execution_count": 4,
   "metadata": {},
   "outputs": [
    {
     "output_type": "stream",
     "name": "stdout",
     "text": [
      "--2021-03-03 15:07:47--  ftp://newftp.epa.gov/storet/wqx/wqx_web_templates/wqxweb3_physical_chemical_package/Physical%20Chemical%20Template.xlsx\n",
      "           => ‘results.xlsx’\n",
      "Resolving newftp.epa.gov (newftp.epa.gov)... 134.67.100.58, 134.67.100.58\n",
      "Connecting to newftp.epa.gov (newftp.epa.gov)|134.67.100.58|:21... connected.\n",
      "Logging in as anonymous ... Logged in!\n",
      "==> SYST ... done.    ==> PWD ... done.\n",
      "==> TYPE I ... done.  ==> CWD (1) /storet/wqx/wqx_web_templates/wqxweb3_physical_chemical_package ... done.\n",
      "==> SIZE Physical Chemical Template.xlsx ... 666851\n",
      "==> PASV ... done.    ==> RETR Physical Chemical Template.xlsx ... done.\n",
      "Length: 666851 (651K) (unauthoritative)\n",
      "\n",
      "Physical Chemical T 100%[===================>] 651.22K  1.51MB/s    in 0.4s    \n",
      "\n",
      "2021-03-03 15:07:48 (1.51 MB/s) - ‘results.xlsx’ saved [666851]\n",
      "\n"
     ]
    }
   ],
   "source": [
    "!wget -O results.xlsx ftp://newftp.epa.gov/storet/wqx/wqx_web_templates/wqxweb3_physical_chemical_package/Physical%20Chemical%20Template.xlsx"
   ]
  },
  {
   "source": [
    "Now that we have some data, let's upload it. The `Upload` function does what we need and returns a `fileId` which we will use later to identify the uploaded file."
   ],
   "cell_type": "markdown",
   "metadata": {}
  },
  {
   "cell_type": "code",
   "execution_count": 5,
   "metadata": {},
   "outputs": [
    {
     "output_type": "stream",
     "name": "stdout",
     "text": [
      "The file uploaded successfully with file_id 4a327079-6a3e-4ea6-98e0-1e558140ebce\n"
     ]
    }
   ],
   "source": [
    "with open(\"results.xlsx\", mode='rb') as file:\n",
    "    file_id = wqxweb.Upload(filename=\"results.xlsx\", contents=file.read())\n",
    "\n",
    "print(f\"The file uploaded successfully with file_id {file_id}\")"
   ]
  },
  {
   "source": [
    "If we had attachments for the data, we would use the `UploadAttachment` function to upload it.\n",
    "\n",
    "One example of when you might do this is if you have a continuous data set which you aggregate for the primary upload and want to attach the raw data along with it. That way the aggregated data can be consumed via WQP and researchers can still download and explore the more detailed data that you derived the submission from.\n",
    "\n",
    "We're not going to do that in this example, so we'll move right on to telling WQX Web to start importing the data we just uploaded. At this point, the file is just sitting in temporary storage waiting for further instructions.\n",
    "\n",
    "The import will be triggered when we call `StartImport`. It accepts many arguments, but the ones we're using are:\n",
    "\n",
    " - `importConfigurationId` - The import configuration ID can be found on the \"Import Configurations\" screen of the WQX Web interface. In this case, we're using import configuration ID `7411` which corresponds to the one named \".Template Physical/Chemical (Template)\" and by default uses the WQXTEST organization.\n",
    " - `fileId` - The file ID is the string which was returned from the `Upload` function earlier.\n",
    " - `fileType` - We're using an XLSX file which is one of the few allowed types. To specify it, we can use the constant `WQXWeb.XLSX`\n",
    " - `worksheetsToImport` - Since we're uploading an XLSX file, we'll need to specify which worksheets to import. This file has the results on sheet 5, so we'll use that. The documentation for the API says this is optional if the import configuration file has a default (which it does) but in practice we need to specify it anyway.\n",
    " - `newOrExistingData` - WQX wants to know if we're submitting new data or updating existing data. Usually, you would specify `WQXWeb.CONTAINS_NEW_ONLY` or `WQXWeb.CONTAINS_EXISTING_ONLY`, but in this example we'll use `WQXWeb.CONTAINS_NEW_OR_EXISTING` so we can run the example multiple times without error.\n",
    " - `uponCompletion` - There is a more advanced way of monitoring the the multiple steps of processing done by WQX Web, but we're going to skip all that by specifying `WQXWeb.EXPORT_IMPORT` which uses WQX Web to export the XML file needed for direct submission to WQX.\n",
    " - `uponCompletionCondition` - WQX Web needs to know what to do if errors or warnings come up while processing your data. We want it to fail if there is even a warning for this example, so we'll use `WQXWeb.EXPORT_IF_NO_WARNING` but you can use the more relaxed `WQXWeb.EXPORT_IF_NO_ERROR` if you want.\n",
    "\n",
    "`StartImport` will return the ID of the dataset which we will use later to check the status of the import. Let's run it now."
   ],
   "cell_type": "markdown",
   "metadata": {}
  },
  {
   "cell_type": "code",
   "execution_count": 6,
   "metadata": {},
   "outputs": [
    {
     "output_type": "stream",
     "name": "stdout",
     "text": [
      "WQX Web assigned the dataset ID 72334 added the dataset to its work queue.\n"
     ]
    }
   ],
   "source": [
    "dataset_id = wqxweb.StartImport(\n",
    "    importConfigurationId=\"7411\",\n",
    "    fileId=file_id,\n",
    "    fileType=WQXWeb.XLSX,\n",
    "    worksheetsToImport=\"5\",\n",
    "    newOrExistingData=WQXWeb.CONTAINS_NEW_OR_EXISTING,\n",
    "    uponCompletion=WQXWeb.EXPORT_IMPORT,\n",
    "    uponCompletionCondition=WQXWeb.EXPORT_IF_NO_WARNING\n",
    ")\n",
    "print(f\"WQX Web assigned the dataset ID {dataset_id} added the dataset to its work queue.\")"
   ]
  },
  {
   "source": [
    "To check the status of that dataset, we'll use `GetStatus`. It simply takes a dataset ID and returns a status message in a dictionary object.\n",
    "\n",
    "That object should contain the following attributes:\n",
    "\n",
    " - `StatusType` - A number representing the status type.\n",
    " - `StatusName` - A human-readable status message.\n",
    " - `StatusUid` - Another number representing the status.\n",
    " - `PercentComplete` - A percentage representing how much of the work is completed.\n",
    " - `QueuePosition` - If WQX Web is to busy to begin processing your data, it will be in queue and you'll see the queue position here.\n",
    " - `TransactionId` - This may be an empty string or a transaction ID.\n",
    "\n",
    "We're going to call that API endpoint every 10 seconds until it reaches a state that indicates it is no longer busy."
   ],
   "cell_type": "markdown",
   "metadata": {}
  },
  {
   "cell_type": "code",
   "execution_count": 7,
   "metadata": {},
   "outputs": [
    {
     "output_type": "stream",
     "name": "stdout",
     "text": [
      "WQX Web stopped with status: Exported\n"
     ]
    }
   ],
   "source": [
    "from time import sleep\n",
    "\n",
    "status = None\n",
    "busy_states = ('Waiting to Import','Importing','Waiting to Export','Waiting to Export and Submit','Exporting','Processing at CDX','Waiting to Delete','Deleting','Waiting to Update WQX','Updating WQX')\n",
    "\n",
    "while status is None or status in busy_states:\n",
    "    status = wqxweb.GetStatus( dataset_id ).get('StatusName')\n",
    "    if status in busy_states:\n",
    "        print(f\"Current status is '{status}'. Now waiting 10 seconds as requested by the API documentation.\")\n",
    "        sleep(10)\n",
    "print(f\"WQX Web stopped with status: {status}\")"
   ]
  }
 ]
}